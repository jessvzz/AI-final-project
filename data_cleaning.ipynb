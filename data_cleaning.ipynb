{
  "nbformat": 4,
  "nbformat_minor": 0,
  "metadata": {
    "colab": {
      "provenance": []
    },
    "kernelspec": {
      "name": "python3",
      "display_name": "Python 3"
    },
    "language_info": {
      "name": "python"
    }
  },
  "cells": [
    {
      "cell_type": "code",
      "source": [
        "#importing needed libraries\n",
        "\n",
        "import pandas as pd\n"
      ],
      "metadata": {
        "id": "y5MZtXr09FUm"
      },
      "execution_count": null,
      "outputs": []
    },
    {
      "cell_type": "code",
      "source": [
        "#dropping the \"timestamp\" column from the \"ratings.csv\" file\n",
        "\n",
        "df_ratings = pd.read_csv('/content/ratings.csv')\n",
        "\n",
        "df_ratings = df_ratings.drop(\"timestamp\", axis='columns')\n",
        "\n",
        "df_ratings.to_csv('/content/ratings_clean.csv', index=False)\n",
        "\n",
        "df_ratings.head()"
      ],
      "metadata": {
        "id": "B-_cbPIiWbm8"
      },
      "execution_count": null,
      "outputs": []
    }
  ]
}