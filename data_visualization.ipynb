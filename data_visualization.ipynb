{
 "cells": [
  {
   "cell_type": "code",
   "execution_count": null,
   "metadata": {
    "id": "ToHPsyhHbGMt"
   },
   "outputs": [],
   "source": [
    "#importing needed libraries\n",
    "import pandas as pd\n",
    "import plotly.graph_objects as go\n",
    "import plotly.express as px\n",
    "import seaborn as sns\n"
   ]
  },
  {
   "cell_type": "code",
   "execution_count": null,
   "metadata": {
    "id": "ZF4Fv8RlbUaf"
   },
   "outputs": [],
   "source": [
    "#to change with the desired dataset\n",
    "df = pd.read_csv(\"SBUX.csv\")\n",
    "\n"
   ]
  },
  {
   "cell_type": "code",
   "execution_count": null,
   "metadata": {
    "id": "1VJAbgJxiA0s"
   },
   "outputs": [],
   "source": [
    "\"\"\"\n",
    "------ Data preparation ------\n",
    "\"\"\"\n",
    "\n",
    "#converting dates in yyyy-mm-dd format\n",
    "df['Date'] = pd.to_datetime(df['Date'])\n",
    "\n",
    "\n",
    "#renamed the column for a pure personal preference\n",
    "df.rename(columns={'Close/Last': 'Close'}, inplace=True)\n",
    "\n",
    "#converted to purely numeric values\n",
    "df['Close'] = df['Close'].replace('[\\$,]', '', regex=True).astype(float)\n",
    "df['Open'] = df['Open'].replace('[\\$,]', '', regex=True).astype(float)\n",
    "df['High'] = df['High'].replace('[\\$,]', '', regex=True).astype(float)\n",
    "df['Low'] = df['Low'].replace('[\\$,]', '', regex=True).astype(float)\n",
    "\n",
    "df = df.ffill()"
   ]
  },
  {
   "cell_type": "markdown",
   "metadata": {},
   "source": [
    "# **Candle Stick**"
   ]
  },
  {
   "cell_type": "code",
   "execution_count": null,
   "metadata": {
    "colab": {
     "base_uri": "https://localhost:8080/",
     "height": 542
    },
    "id": "cBvLFOF1qp06",
    "outputId": "a7ec8721-9d5c-4718-ac6c-544c1fa4d8d1"
   },
   "outputs": [],
   "source": [
    "fig = go.Figure(data=[go.Candlestick(x=df['Date'],\n",
    "                open=df['Open'],\n",
    "                high=df['High'],\n",
    "                low=df['Low'],\n",
    "                close=df['Close'])])\n",
    "\n",
    "\n",
    "fig.update_layout(title='Candlestick Chart',\n",
    "                  xaxis_title='Date',\n",
    "                  yaxis_title='Price')"
   ]
  },
  {
   "cell_type": "markdown",
   "metadata": {},
   "source": [
    "# **Scatter Plot**"
   ]
  },
  {
   "cell_type": "code",
   "execution_count": null,
   "metadata": {},
   "outputs": [],
   "source": [
    "#converted to purely numeric values\n",
    "df['Close'] = df['Close'].replace('[\\$,]', '', regex=True).astype(float)\n",
    "fig = px.scatter(df, x=\"Date\", y=\"Close\", title=\"Closing price over time\")\n",
    "fig.update_layout(yaxis_title='Price')\n",
    "\n",
    "fig.show()"
   ]
  },
  {
   "cell_type": "markdown",
   "metadata": {},
   "source": [
    "# **Volume bars for trading volumes**"
   ]
  },
  {
   "cell_type": "code",
   "execution_count": null,
   "metadata": {},
   "outputs": [],
   "source": [
    "fig = px.histogram(df, x='Date', y='Volume', title='Trading Volume over Time')\n",
    "\n",
    "fig.update_layout(xaxis_title='Date', yaxis_title='Volume')\n",
    "\n",
    "fig.show()"
   ]
  },
  {
   "cell_type": "markdown",
   "metadata": {},
   "source": [
    "# **Time Series**"
   ]
  },
  {
   "cell_type": "code",
   "execution_count": null,
   "metadata": {},
   "outputs": [],
   "source": [
    "fig = go.Figure([go.Scatter(x=df['Date'], y=df['High'])])\n",
    "fig.update_layout(title='Time Series',\n",
    "                  xaxis_title='Date',\n",
    "                  yaxis_title='Price')"
   ]
  }
 ],
 "metadata": {
  "colab": {
   "provenance": []
  },
  "kernelspec": {
   "display_name": "Python 3",
   "name": "python3"
  },
  "language_info": {
   "codemirror_mode": {
    "name": "ipython",
    "version": 3
   },
   "file_extension": ".py",
   "mimetype": "text/x-python",
   "name": "python",
   "nbconvert_exporter": "python",
   "pygments_lexer": "ipython3",
   "version": "3.12.0"
  }
 },
 "nbformat": 4,
 "nbformat_minor": 0
}
