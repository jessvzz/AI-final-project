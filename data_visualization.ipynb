{
 "cells": [
  {
   "cell_type": "code",
   "execution_count": 1,
   "metadata": {
    "id": "QyOscEebh9aY"
   },
   "outputs": [],
   "source": [
    "#importing needed libraries\n",
    "\n",
    "import matplotlib.pyplot as plt\n",
    "import pandas as pd\n",
    "import numpy as np\n",
    "import seaborn as sns\n",
    "import time as t\n"
   ]
  },
  {
   "cell_type": "code",
   "execution_count": 3,
   "metadata": {
    "collapsed": false
   },
   "outputs": [],
   "source": [
    "df_ratings = pd.read_csv('ratings_clean.csv')"
   ]
  },
  {
   "cell_type": "code",
   "execution_count": null,
   "metadata": {
    "id": "z5SoILK9vP7l"
   },
   "outputs": [],
   "source": [
    "#checks how many ratings\n",
    "num_users = len(df_ratings.userId.unique())\n",
    "num_items = len(df_ratings.movieId.unique())\n",
    "total_items = num_users * num_items\n",
    "\n",
    "#new df to visualize rating counts\n",
    "df_ratings_visual = pd.DataFrame(df_ratings.groupby('rating').size(), columns=['count'])\n",
    "\n",
    "\n",
    "# removing the 0 column --> those would be missing ratings\n",
    "df_ratings_cnt = df_ratings_visual[df_ratings_visual.index != 0.0].copy()\n",
    "#used for highly skewed data\n",
    "df_ratings_cnt['log_count'] = np.log1p(df_ratings_cnt['count'])\n",
    "\n",
    "# plot\n",
    "ax = df_ratings_cnt.reset_index().plot(\n",
    "    x='rating',\n",
    "    y='count',\n",
    "    kind='bar',\n",
    "    figsize=(12, 8),\n",
    "    title='Distribution of rating scores',\n",
    "    logy=True,\n",
    "    fontsize=12,\n",
    "    color='lightblue',\n",
    "    edgecolor='black',\n",
    "    alpha=0.7,\n",
    ")\n",
    "\n",
    "ax.set_xlabel(\"movie rating score\")\n",
    "ax.set_ylabel(\"number of ratings\")\n",
    "\n",
    "\n",
    "plt.show()\n",
    "\n"
   ]
  },
  {
   "cell_type": "code",
   "execution_count": null,
   "metadata": {
    "collapsed": false
   },
   "outputs": [],
   "source": [
    "# Read the data from the csv file\n",
    "data = pd.read_csv('movies.csv')\n",
    "data = data.drop('movieId', axis=1)\n",
    "data = data.drop('title', axis=1)\n",
    "\n",
    "#create dictionary for genres\n",
    "genres = {\n",
    "    'Action': 0,\n",
    "    'Adventure': 0,\n",
    "    'Animation': 0,\n",
    "    'Children': 0,\n",
    "    'Comedy': 0,\n",
    "    'Crime': 0,\n",
    "    'Documentary': 0,\n",
    "    'Drama': 0,\n",
    "    'Fantasy': 0,\n",
    "    'Film-Noir': 0,\n",
    "    'Horror': 0,\n",
    "    'Musical': 0,\n",
    "    'Mystery': 0,\n",
    "    'Romance': 0,\n",
    "    'Sci-Fi': 0,\n",
    "    'Thriller': 0,\n",
    "    'War': 0,\n",
    "    'Western': 0,\n",
    "    'IMAX': 0,\n",
    "    '(no genres listed)': 0\n",
    "}\n",
    "\n",
    "# for each row in data, add the genres to the dictionary\n",
    "start = t.time()\n",
    "for row in data.iterrows():\n",
    "    for genre in row[1]['genres'].split('|'):\n",
    "        genres[genre] += 1\n",
    "end= t.time()\n",
    "print(\"time for scraping:\",end - start)\n",
    "            \n",
    "plt.pie(genres.values(), labels=genres.keys(), autopct='%1.1f%%')\n",
    "plt.axis('equal')\n",
    "plt.show()\n",
    "\n"
   ]
  }
 ],
 "metadata": {
  "colab": {
   "provenance": []
  },
  "kernelspec": {
   "display_name": "Python 3",
   "name": "python3"
  },
  "language_info": {
   "name": "python"
  }
 },
 "nbformat": 4,
 "nbformat_minor": 0
}
