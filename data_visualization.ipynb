{
  "nbformat": 4,
  "nbformat_minor": 0,
  "metadata": {
    "colab": {
      "provenance": []
    },
    "kernelspec": {
      "name": "python3",
      "display_name": "Python 3"
    },
    "language_info": {
      "name": "python"
    }
  },
  "cells": [
    {
      "cell_type": "code",
      "source": [
        "#importing needed libraries\n",
        "\n",
        "import matplotlib.pyplot as plt\n",
        "import pandas as pd\n",
        "import numpy as np"
      ],
      "metadata": {
        "id": "QyOscEebh9aY"
      },
      "execution_count": null,
      "outputs": []
    },
    {
      "cell_type": "code",
      "source": [
        "df_ratings = pd.read_csv('ratings_clean.csv')\n",
        "\n",
        "#checks how many ratings\n",
        "num_users = len(df_ratings.userId.unique())\n",
        "num_items = len(df_ratings.movieId.unique())\n",
        "total_items = num_users * num_items\n",
        "\n",
        "#new df to visualize rating counts\n",
        "df_ratings_visual = pd.DataFrame(df_ratings.groupby('rating').size(), columns=['count'])\n",
        "\n",
        "\n",
        "# removing the 0 column --> those would be missing ratings\n",
        "df_ratings_cnt = df_ratings_visual[df_ratings_visual.index != 0.0].copy()\n",
        "#used for highly skewed data\n",
        "df_ratings_cnt['log_count'] = np.log1p(df_ratings_cnt['count'])\n",
        "\n",
        "# plot\n",
        "ax = df_ratings_cnt.reset_index().plot(\n",
        "    x='rating',\n",
        "    y='count',\n",
        "    kind='bar',\n",
        "    figsize=(12, 8),\n",
        "    title='Distribution of rating scores',\n",
        "    logy=True,\n",
        "    fontsize=12,\n",
        "    color='lightblue',\n",
        "    edgecolor='black',\n",
        "    alpha=0.7,\n",
        ")\n",
        "\n",
        "ax.set_xlabel(\"movie rating score\")\n",
        "ax.set_ylabel(\"number of ratings\")\n",
        "\n",
        "\n",
        "plt.show()\n",
        "\n"
      ],
      "metadata": {
        "id": "z5SoILK9vP7l"
      },
      "execution_count": null,
      "outputs": []
    }
  ]
}