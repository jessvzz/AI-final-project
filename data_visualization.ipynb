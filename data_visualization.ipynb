{
 "cells": [
  {
   "cell_type": "code",
   "execution_count": null,
   "metadata": {
    "id": "ToHPsyhHbGMt"
   },
   "outputs": [],
   "source": [
    "#importing needed libraries\n",
    "import pandas as pd\n",
    "import plotly.graph_objects as go\n",
    "import plotly.express as px\n",
    "import seaborn as sns\n"
   ]
  },
  {
   "cell_type": "code",
   "execution_count": null,
   "metadata": {
    "id": "ZF4Fv8RlbUaf"
   },
   "outputs": [],
   "source": [
    "#to change with the desired dataset\n",
    "df = pd.read_csv(\"SBUX.csv\")\n",
    "\n"
   ]
  },
  {
   "cell_type": "code",
   "execution_count": null,
   "metadata": {
    "id": "1VJAbgJxiA0s"
   },
   "outputs": [],
   "source": [
    "\"\"\"\n",
    "------ Data preparation ------\n",
    "\"\"\"\n",
    "\n",
    "#converting dates in yyyy-mm-dd format\n",
    "df['Date'] = pd.to_datetime(df['Date'])\n",
    "\n",
    "\n",
    "#renamed the column for a pure personal preference\n",
    "df.rename(columns={'Close/Last': 'Close'}, inplace=True)\n",
    "\n",
    "#converted to purely numeric values\n",
    "df['Close'] = df['Close'].replace('[\\$,]', '', regex=True).astype(float)\n",
    "df['Open'] = df['Open'].replace('[\\$,]', '', regex=True).astype(float)\n",
    "df['High'] = df['High'].replace('[\\$,]', '', regex=True).astype(float)\n",
    "df['Low'] = df['Low'].replace('[\\$,]', '', regex=True).astype(float)\n",
    "\n",
    "df = df.ffill()"
   ]
  },
  {
   "cell_type": "markdown",
   "metadata": {},
   "source": [
    "# **Candle Stick**"
   ]
  },
  {
   "cell_type": "code",
   "execution_count": null,
   "metadata": {
    "colab": {
     "base_uri": "https://localhost:8080/",
     "height": 542
    },
    "id": "cBvLFOF1qp06",
    "outputId": "a7ec8721-9d5c-4718-ac6c-544c1fa4d8d1"
   },
   "outputs": [],
   "source": [
    "fig = go.Figure(data=[go.Candlestick(x=df['Date'],\n",
    "                open=df['Open'],\n",
    "                high=df['High'],\n",
    "                low=df['Low'],\n",
    "                close=df['Close'])])\n",
    "\n",
    "\n",
    "fig.update_layout(title='Candlestick Chart',\n",
    "                  xaxis_title='Date',\n",
    "                  yaxis_title='Price')"
   ]
  },
  {
   "cell_type": "markdown",
   "metadata": {},
   "source": [
    "# **Scatter Plot**"
   ]
  },
  {
   "cell_type": "code",
   "execution_count": null,
   "metadata": {},
   "outputs": [],
   "source": [
    "#converted to purely numeric values\n",
    "df['Close'] = df['Close'].replace('[\\$,]', '', regex=True).astype(float)\n",
    "fig = px.scatter(df, x=\"Date\", y=\"Close\", title=\"Closing price over time\")\n",
    "fig.update_layout(yaxis_title='Price')\n",
    "\n",
    "fig.show()"
   ]
  },
  {
   "cell_type": "markdown",
   "metadata": {},
   "source": [
    "# **Volume bars for trading volumes**"
   ]
  },
  {
   "cell_type": "code",
   "execution_count": null,
   "metadata": {},
   "outputs": [],
   "source": [
    "fig = px.histogram(df, x='Date', y='Volume', title='Trading Volume over Time')\n",
    "\n",
    "fig.update_layout(xaxis_title='Date', yaxis_title='Volume')\n",
    "\n",
    "fig.show()"
   ]
  },
  {
   "cell_type": "markdown",
   "metadata": {},
   "source": [
    "# **Time Series**"
   ]
  },
  {
   "cell_type": "code",
   "execution_count": null,
   "metadata": {},
   "outputs": [],
   "source": [
    "fig = go.Figure([go.Scatter(x=df['Date'], y=df['High'])])\n",
    "fig.update_layout(title='Time Series',\n",
    "                  xaxis_title='Date',\n",
    "                  yaxis_title='Price')"
   ]
  },
  {
   "cell_type": "markdown",
   "metadata": {},
   "source": [
    "# **Feature Engineering**"
   ]
  },
  {
   "cell_type": "code",
   "execution_count": null,
   "metadata": {},
   "outputs": [],
   "source": [
    "from datetime import datetime, date, timedelta\n",
    "Buy_date=\"10/21/2021\"\n",
    "span=100\n",
    "targetdate=datetime.strptime(Buy_date,\"%m/%d/%Y\")\n"
   ]
  },
  {
   "cell_type": "markdown",
   "metadata": {},
   "source": [
    "# **Rapporti Di Ritorno Cumulativi Target:3g,7g,14g**"
   ]
  },
  {
   "cell_type": "code",
   "execution_count": null,
   "metadata": {},
   "outputs": [],
   "source": [
    "targetdate_3g=targetdate+timedelta(days=3)\n",
    "targetdate_7g=targetdate+timedelta(days=7)\n",
    "targetdate_14g=targetdate+timedelta(days=14)\n",
    "\n",
    "df_filtered_base = df[df['Date'] == pd.to_datetime(targetdate)]\n",
    "df_filtered_3g = df[df['Date'] == pd.to_datetime(targetdate_3g)]\n",
    "df_filtered_7g = df[df['Date'] == pd.to_datetime(targetdate_7g)]\n",
    "df_filtered_14g = df[df['Date'] == pd.to_datetime(targetdate_14g)]\n",
    "\n",
    "if df_filtered_base.empty:\n",
    "    print(\"No data for targetdate\")\n",
    "else:\n",
    "\n",
    "    close_base = df_filtered_base['Close'].values[0]\n",
    "    if df_filtered_3g.empty:\n",
    "        print(\"Nessun dato per Ritorno cumulato a 3 giorni\")\n",
    "    else:\n",
    "        close_3g = df_filtered_3g['Close'].values[0]\n",
    "        print(\"Ritorno cumulato a 3 giorni:{:.2f}% \".format(((close_3g-close_base)/close_base)*100))\n",
    "    if df_filtered_7g.empty:\n",
    "        print(\"Nessun dato per Ritorno cumulato a 7 giorni\")\n",
    "    else:\n",
    "        close_7g = df_filtered_7g['Close'].values[0]\n",
    "        print(\"Ritorno cumulato a 7 giorni:{:.2f}% \".format(((close_7g-close_base)/close_base)*100))\n",
    "    if df_filtered_14g.empty:\n",
    "        print(\"Nessun dato per Ritorno cumulato a 14 giorni\")\n",
    "    else:\n",
    "        close_14g = df_filtered_14g['Close'].values[0]\n",
    "        print(\"Ritorno cumulato a 14 giorni:{:.2f}%\".format(((close_14g-close_base)/close_base)*100))\n",
    "\n",
    "\n",
    "\n"
   ]
  },
  {
   "cell_type": "markdown",
   "metadata": {},
   "source": [
    "# **Studio sui rapporti di ritorno:**"
   ]
  },
  {
   "cell_type": "code",
   "execution_count": null,
   "metadata": {},
   "outputs": [],
   "source": [
    "\n",
    "df_ROI = pd.DataFrame()\n",
    "\n",
    "\n",
    "df_100g = df[df['Date'] >= pd.to_datetime(targetdate)]\n",
    "df_100g = df_100g[df_100g['Date'] <= pd.to_datetime(targetdate) + timedelta(days=100)]\n",
    "\n",
    "Buy_date_close=df[df['Date'] == pd.to_datetime(targetdate)]['Close'].values[0]\n",
    "\n",
    "for date in df_100g.iterrows():\n",
    "    close = date[1]['Close']\n",
    "    ROI= (close/Buy_date_close)*100\n",
    "    df_ROI=pd.concat([df_ROI,pd.DataFrame({'Date': [date[1]['Date']], 'ROI': [ROI]})])\n",
    "    df_ROI['ROI_Moving_Avg'] = df_ROI['ROI'].rolling(window=3).mean()\n",
    "    Volatility = df_ROI['ROI'].std()\n",
    "\n",
    "fig = px.line(df_ROI, x=\"Date\", y=df_ROI.columns[:-1], title='ROI over time')\n",
    "fig.update_layout(yaxis_title='ROI')\n",
    "fig.show()\n",
    "print(\"Volatility: {:.2f}%\".format(Volatility))\n",
    "print (df_ROI)\n"
   ]
  },
  {
   "cell_type": "markdown",
   "metadata": {},
   "source": [
    "# **Indicatori tecnici:**"
   ]
  },
  {
   "cell_type": "code",
   "execution_count": 198,
   "metadata": {},
   "outputs": [
    {
     "ename": "NameError",
     "evalue": "name 'ta' is not defined",
     "output_type": "error",
     "traceback": [
      "\u001B[1;31m---------------------------------------------------------------------------\u001B[0m",
      "\u001B[1;31mNameError\u001B[0m                                 Traceback (most recent call last)",
      "Cell \u001B[1;32mIn[198], line 5\u001B[0m\n\u001B[0;32m      3\u001B[0m df_ema[\u001B[38;5;124m'\u001B[39m\u001B[38;5;124mClose\u001B[39m\u001B[38;5;124m'\u001B[39m] \u001B[38;5;241m=\u001B[39m df[\u001B[38;5;124m'\u001B[39m\u001B[38;5;124mClose\u001B[39m\u001B[38;5;124m'\u001B[39m]\n\u001B[0;32m      4\u001B[0m df_ema[\u001B[38;5;124m'\u001B[39m\u001B[38;5;124mEMA\u001B[39m\u001B[38;5;124m'\u001B[39m] \u001B[38;5;241m=\u001B[39m df[\u001B[38;5;124m'\u001B[39m\u001B[38;5;124mClose\u001B[39m\u001B[38;5;124m'\u001B[39m]\u001B[38;5;241m.\u001B[39mewm(span\u001B[38;5;241m=\u001B[39m\u001B[38;5;241m100\u001B[39m, adjust\u001B[38;5;241m=\u001B[39m\u001B[38;5;28;01mFalse\u001B[39;00m)\u001B[38;5;241m.\u001B[39mmean()\n\u001B[1;32m----> 5\u001B[0m df_ema[\u001B[38;5;124m'\u001B[39m\u001B[38;5;124mRSI\u001B[39m\u001B[38;5;124m'\u001B[39m] \u001B[38;5;241m=\u001B[39m \u001B[43mta\u001B[49m\u001B[38;5;241m.\u001B[39mmomentum\u001B[38;5;241m.\u001B[39mrsi(df[\u001B[38;5;124m'\u001B[39m\u001B[38;5;124mClose\u001B[39m\u001B[38;5;124m'\u001B[39m])\n\u001B[0;32m      7\u001B[0m fig \u001B[38;5;241m=\u001B[39m px\u001B[38;5;241m.\u001B[39mline(df_ema, x\u001B[38;5;241m=\u001B[39m\u001B[38;5;124m\"\u001B[39m\u001B[38;5;124mDate\u001B[39m\u001B[38;5;124m\"\u001B[39m, y\u001B[38;5;241m=\u001B[39mdf_ema\u001B[38;5;241m.\u001B[39mcolumns, title\u001B[38;5;241m=\u001B[39m\u001B[38;5;124m'\u001B[39m\u001B[38;5;124mEMA over time\u001B[39m\u001B[38;5;124m'\u001B[39m)\n\u001B[0;32m      8\u001B[0m fig\u001B[38;5;241m.\u001B[39mupdate_layout(yaxis_title\u001B[38;5;241m=\u001B[39m\u001B[38;5;124m'\u001B[39m\u001B[38;5;124mValue\u001B[39m\u001B[38;5;124m'\u001B[39m)\n",
      "\u001B[1;31mNameError\u001B[0m: name 'ta' is not defined"
     ]
    }
   ],
   "source": [
    "df_ema = pd.DataFrame()\n",
    "df_ema['Date'] = df['Date']\n",
    "df_ema['Close'] = df['Close']\n",
    "df_ema['EMA'] = df['Close'].ewm(span=100, adjust=False).mean()\n",
    "df_ema['RSI'] = ta.momentum.rsi(df['Close'])\n",
    "\n",
    "fig = px.line(df_ema, x=\"Date\", y=df_ema.columns, title='EMA over time')\n",
    "fig.update_layout(yaxis_title='Value')\n",
    "fig.show()\n",
    "print (df_ema)"
   ]
  }
 ],
 "metadata": {
  "colab": {
   "provenance": []
  },
  "kernelspec": {
   "display_name": "Python 3",
   "name": "python3"
  },
  "language_info": {
   "codemirror_mode": {
    "name": "ipython",
    "version": 3
   },
   "file_extension": ".py",
   "mimetype": "text/x-python",
   "name": "python",
   "nbconvert_exporter": "python",
   "pygments_lexer": "ipython3",
   "version": "3.12.0"
  }
 },
 "nbformat": 4,
 "nbformat_minor": 0
}
